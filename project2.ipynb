{
 "cells": [
  {
   "cell_type": "markdown",
   "metadata": {},
   "source": [
    "# Project 2: Web Scraping and API access"
   ]
  },
  {
   "cell_type": "code",
   "execution_count": 3,
   "metadata": {},
   "outputs": [
    {
     "name": "stdout",
     "output_type": "stream",
     "text": [
      "Requirement already satisfied: beautifulsoup4 in /Library/Frameworks/Python.framework/Versions/3.12/lib/python3.12/site-packages (4.13.3)\n",
      "Requirement already satisfied: soupsieve>1.2 in /Library/Frameworks/Python.framework/Versions/3.12/lib/python3.12/site-packages (from beautifulsoup4) (2.6)\n",
      "Requirement already satisfied: typing-extensions>=4.0.0 in /Library/Frameworks/Python.framework/Versions/3.12/lib/python3.12/site-packages (from beautifulsoup4) (4.12.2)\n",
      "Note: you may need to restart the kernel to use updated packages.\n"
     ]
    }
   ],
   "source": [
    "pip install beautifulsoup4"
   ]
  },
  {
   "cell_type": "markdown",
   "metadata": {},
   "source": [
    "## Part 1: Explore the html for Wikipedia articles. "
   ]
  },
  {
   "cell_type": "markdown",
   "metadata": {},
   "source": [
    "### A. Using inspect element, copy the html code for a table."
   ]
  },
  {
   "cell_type": "markdown",
   "metadata": {},
   "source": [
    "### B. Using inspect element, find the html syntax for a link. "
   ]
  },
  {
   "cell_type": "markdown",
   "metadata": {},
   "source": [
    "### C. Using inspect element, find the html syntax for linking an image"
   ]
  },
  {
   "cell_type": "markdown",
   "metadata": {},
   "source": [
    "## Part 2: Explore one Wikipedia page with the beautifulsoup package"
   ]
  },
  {
   "cell_type": "code",
   "execution_count": 4,
   "metadata": {},
   "outputs": [],
   "source": [
    "import requests\n",
    "import pandas as pd\n",
    "from bs4 import BeautifulSoup"
   ]
  },
  {
   "cell_type": "code",
   "execution_count": 5,
   "metadata": {},
   "outputs": [
    {
     "name": "stdout",
     "output_type": "stream",
     "text": [
      "Pizza - Wikipedia Jump to content Main menu Main menu move to sidebar hide Navigation Main pageContentsCurrent eventsRandom articleAbout WikipediaContact us Contribute HelpLearn to editCommunity portalRecent changesUpload fileSpecial pages Search Search Appearance Donate Create account Log in Personal tools Donate Create account Log in Pages for logged out editors learn more ContributionsTalk Contents move to sidebar hide (Top) 1 Etymology 2 History 3 Preparation Toggle Preparation subsection 3.1 Baking 3.2 Crust 3.3 Cheese 4 Varieties and styles Toggle Varieties and styles subsection 4.1 Varieties 4.2 Styles 4.3 By region of origin 4.3.1 Italy 4.3.2 United States 4.3.3 Argentina 4.4 Dessert pizza 5 Nutrition 6 Similar dishes 7 See also 8 Notes 9 References 10 Further reading Toggle the table of contents Pizza 143 languages AfrikaansAlemannischአማርኛÆngliscالعربيةAragonésԱրեւմտահայերէնAsturianuAzərbaycancaتۆرکجهBasa BaliবাংলাBanjar閩南語 / Bân-lâm-gúБашҡортсаБеларускаяБеларуская (тарашкевіца)भोजपुरीBikol CentralБългарскиBoarischBosanskiBrezhonegCatalàCebuanoČeštinaCymraegDagbanliDanskDeutschEestiΕλληνικάEmiliàn e rumagnòlEspañolEsperantoEuskaraFarefareفارسیFrançaisFryskGaeilgeGalego한국어HausaՀայերենहिन्दीHrvatskiIdoBahasa IndonesiaInterlinguaÍslenskaItalianoעבריתJawaಕನ್ನಡქართულიकॉशुर / کٲشُرҚазақшаKiswahiliKurdîКыргызчаКырык марыລາວLatinaLatviešuLëtzebuergeschLietuviųLimburgsLingálaLingua Franca NovaLombardMagyarМакедонскиമലയാളംMāoriमराठीمصرىBahasa Melayuꯃꯤꯇꯩ ꯂꯣꯟМонголမြန်မာဘာသာNederlandsNedersaksies日本語NapulitanoNorsk bokmålNorsk nynorskNouormandOccitanଓଡ଼ିଆOʻzbekcha / ўзбекчаਪੰਜਾਬੀپنجابیپښتوភាសាខ្មែរPinayuananPolskiΠοντιακάPortuguêsQaraqalpaqshaRomânăRuna SimiРусскийСаха тылаSarduScotsShqipSicilianuසිංහලSimple EnglishSlovenčinaSlovenščinaŚlůnskiکوردیСрпски / srpskiSrpskohrvatski / српскохрватскиSundaSuomiSvenskaTagalogதமிழ்Татарча / tatarçaతెలుగుไทยТоҷикӣTürkçeTürkmençeУкраїнськаاردوئۇيغۇرچە / UyghurcheVènetoVepsän kel’Tiếng ViệtWinaray吴语ייִדיש粵語ZazakiŽemaitėška中文Ghanaian PidginKumoringMoore Edit links ArticleTalk English ReadView sourceView history Tools Tools move to sidebar hide Actions ReadView sourceView history General What links hereRelated changesUpload filePermanent linkPage informationCite this pageGet shortened URLDownload QR code Print/export Download as PDFPrintable version In other projects Wikimedia CommonsWikibooksWikivoyageWikidata item Appearance move to sidebar hide From Wikipedia, the free encyclopedia Italian dish with a flat dough-based base and toppings For other uses, see Pizza (disambiguation). \"Pizzaiolo\" redirects here. For the restaurant chain, see Pizzaiolo (restaurant chain). PizzaA pizza divided into eight slicesTypeFlatbreadCourseOne course mealPlace of originItalyRegion or stateNaples, CampaniaServing temperatureHot or warmMain ingredientsDough, sauce (usually tomato sauce), cheese (typically mozzarella)Similar dishesCalzone, panzerotti Media: Pizza Part of a series onPizza Main articles History of pizza Pizza delivery List of pizza varieties by country Styles Al taglio Altoona Beach Brier Hill California Chicago Colorado Columbus Dayton Detroit Focaccia al rosmarino Fugazza Grandma Greek Happy Iranian Lazio Matzah Mexican Minnesota Neapolitan New Haven New York Ohio Valley Pan Pictou County Pizzetta Quad City Roman Sardenara Sicilian Stuffed crust Sushi St. Louis Sheet pizza Tavern Italian tomato pie Trenton tomato pie Topping varieties Capricciosa Chocolate Hawaiian Kebab Meatball Pugliese Quattro formaggi Quattro stagioni Seafood Spaghetti Taco White White clam pie Cooking variations Coal-fired Deep-fried Grilled Pizza cake Margherita Marinara Tools Pizza cutter Pizza saver Pizza stone Peel Masonry oven Mezzaluna Pizza box Events Long Island Pizza Festival & Bake-Off National Pizza Month World Pizza Championship Frozen pizza brands Bagel Bites Celeste DiGiorno Ellio's Goodfella's Grandiosa Home Run Inn Dr. Oetker Palermo's Pizza Pops Richelieu Foods (private label) Schwan's Company (private label) Tombstone Totino's Wagner Lists of pizza chains List of pizza chains List of pizza franchises List of Canadian pizza chains List of pizza chains of the United States By country Argentina Brazil Canada China North Korea United States Related articles Pizza effect Jumbo slice Pizza by the slice Dollar slice Pizza cheese Pizza-ghetti Pizza party Pizza Principle Pizza theorem Pizza Rat None Pizza with Left Beef Similar dishes Pizza bagel Calzone Coca Cong you bing Farinata Flammkuchen Focaccia Garlic fingers Khachapuri Lahmacun Manakish Panzerotti Paratha Pastrmajlija Pissaladière Pizza Pops Pizza puff Pizza rolls P'Zone Quesadilla Sardenara Sausage bread Scaccia Sfiha Stromboli Uttapam vte Pizza[a][1] is an Italian dish typically consisting of a flat base of leavened wheat-based dough topped with tomato, cheese, and other ingredients, baked at a high temperature, traditionally in a wood-fired oven. The term pizza was first recorded in 997 AD, in a Latin manuscript from the southern Italian town of Gaeta, in Lazio, on the border with Campania.[2] Raffaele Esposito is often credited for creating the modern pizza in Naples.[3][4][5][6] In 2009, Neapolitan pizza[7] was registered with the European Union as a traditional speciality guaranteed (TSG) dish. In 2017, the art of making Neapolitan pizza was included on UNESCO's list of intangible cultural heritage.[8] Pizza and its variants are among the most popular foods in the world. Pizza is sold at a variety of restaurants, including pizzerias (pizza specialty restaurants), Mediterranean restaurants, via delivery, and as street food.[9] In Italy, pizza served in a restaurant is presented unsliced, and is eaten with the use of a knife and fork.[10][11] In casual settings, however, it is typically cut into slices to be eaten while held in the hand. Pizza is also sold in grocery stores in a variety of forms, including frozen or as kits for self-assembly. Store-bought pizzas are then cooked using a home oven. In 2017, the world pizza market was US$128 billion, and in the US it was $44 billion spread over 76,000 pizzerias.[12] Overall, 13% of the US population aged two years and over consumed pizza on any given day.[13] Etymology The oldest recorded usage of the word pizza is thought to be from May 997 CE, appearing in the Codex diplomaticus Caietanus, a notarial Latin document from the town of Gaeta, then still part of the Byzantine Empire.[14] The text states that a tenant of certain property is to give the bishop of Gaeta duodecim pizze (lit. 'twelve pizzas'),[15] a pork shoulder and kidney annually on Christmas Day, and twelve pizzas and a couple of chickens annually on Easter Sunday.[16] Suggested etymologies include: Byzantine Greek and Late Latin pitta > pizza, cf. Modern Greek pitta bread and the Apulia and Calabrian (then Byzantine Italy) pitta,[17] a round flat bread baked in the oven at high temperature sometimes with toppings. The word pitta can in turn be traced to either Ancient Greek πικτή (pikte), 'fermented pastry', which in Latin became picta, or Ancient Greek πίσσα (pissa, Attic: πίττα, pitta), 'pitch',[18][19] or πήτεα (pḗtea), 'bran' (πητίτης, pētítēs, 'bran bread').[20] The Etymological Dictionary of the Italian Language explains it as coming from dialectal pinza, 'clamp', as in modern Italian pinze, 'pliers, pincers, tongs, forceps'. Their origin is from Latin pinsere, 'to pound, stamp'.[21] The Lombardic word bizzo or pizzo, meaning 'mouthful' (related to the English words bit and bite), which was brought to Italy in the middle of the 6th century AD by the invading Lombards.[2][22] The shift b→p could be explained by the High German consonant shift, and it has been noted in this connection that in German the word Imbiss means 'snack'. A small pizza is sometimes called pizzetta.[23] A person who makes pizza is known as a pizzaiolo.[24] The word pizza was borrowed from Italian into English in the 1930s; before it became well known, pizza was called \"tomato pie\" by English speakers. Some regional pizza variations still use the name tomato pie.[25] History Main article: History of pizza An illustration from 1830 of a pizzaiolo in Naples Records of pizza-like foods can be found throughout ancient history. In the 6th century BC, the Persian soldiers of the Achaemenid Empire during the rule of Darius the Great baked flatbreads with cheese and dates on top of their battle shields[26][27] and the ancient Greeks supplemented their bread with oils, herbs, and cheese.[28][29] An early reference to a pizza-like food occurs in the Aeneid, when Celaeno, queen of the Harpies, foretells that the Trojans would not find peace until they are forced by hunger to eat their tables (Book III). In Book VII, Aeneas and his men are served a meal that includes round cakes (such as pita bread) topped with cooked vegetables. When they eat the bread, they realize that these are the \"tables\" prophesied by Celaeno.[30] In 2023, archeologists discovered a fresco in Pompeii appearing to depict a pizza-like dish among other foodstuffs and staples on a silver platter. Italy's culture minister said it \"may be a distant ancestor of the modern dish\".[31][32] The first mention of the word pizza seemingly comes from a notarial document written in Latin and dating to 997 CE from Gaeta, demanding a payment of \"twelve pizzas, a pork shoulder, and a pork kidney on Christmas Day, and 12 pizzas and a couple of chickens on Easter Day\".[16] Modern pizza evolved from similar flatbread dishes in Naples, Italy, in the 18th or early 19th century.[33] Before that time, flatbread was often topped with ingredients such as garlic, salt, lard, and cheese. It is uncertain when tomatoes were first added and there are many conflicting claims,[33] although it certainly could not have been before the 16th century and the Columbian Exchange. Pizza was sold from open-air stands and out of pizza bakeries until about 1830, when pizzerias in Naples started to have stanze with tables where clients could sit and eat their pizzas on the spot.[34] A popular legend holds that the archetypal pizza, pizza Margherita,[35] was invented in 1889, when the Royal Palace of Capodimonte commissioned the Neapolitan pizzaiolo ('pizza maker') Raffaele Esposito to create a pizza in honor of the visiting Queen Margherita. Of the three different pizzas he created, the queen strongly preferred a pizza swathed in the colors of the Italian flag—red (tomato), white (mozzarella), and green (basil). Supposedly, this type of pizza was then named after the queen,[36] with an official letter of recognition from the queen's \"head of service\" remaining to this day on display in Esposito's shop, now called the Pizzeria Brandi.[37] Later research cast doubt on this legend, undermining the authenticity of the letter of recognition, pointing that no media of the period reported about the supposed visit and that both the story and name Margherita were first promoted in the 1930s–1940s.[38][39] Pizza was taken to the United States by Italian immigrants in the late 19th century[40] and first appeared in areas where they concentrated. The country's first pizzeria, Lombardi's, opened in New York City in 1905.[41] Italian Americans migrating from East to West brought the dish with them, and from there, the American version was exported to the rest of the world.[42] The Associazione Verace Pizza Napoletana (lit. 'True Neapolitan Pizza Association') is a non-profit organization founded in 1984 with headquarters in Naples that aims to promote traditional Neapolitan pizza.[43] In 2009, upon Italy's request, Neapolitan pizza was registered with the European Union as a traditional speciality guaranteed (TSG) dish,[44][45] and in 2017 the art of its making was included on UNESCO's list of intangible cultural heritage.[8] Preparation Pizza is sold fresh or frozen, and whole or in portion-size slices. Methods have been developed to overcome challenges such as preventing the sauce from combining with the dough, and producing a crust that can be frozen and reheated without becoming rigid. There are frozen pizzas with raw ingredients and self-rising crusts. In the US, another form of pizza is available from take and bake pizzerias. This pizza is assembled in the store, then sold unbaked to customers to bake in their own ovens. Some grocery stores sell fresh dough along with sauce and basic ingredients, to assemble at home before baking in an oven. Pizza preparation Pizza dough being kneaded before being left undisturbed and allowed time to proof Tossing pizza dough to stretch it An unbaked Neapolitan pizza on a metal peel, ready for the oven A wrapped, mass-produced frozen pizza to be baked at home Baking In restaurants, pizza can be baked in an oven with fire bricks above the heat source, an electric deck oven, a conveyor belt oven, or in traditional style in a wood or coal-fired brick oven. The pizza is slid into the oven on a long paddle, called \"peel\", and baked directly on hot bricks, a screen (a round metal grate, typically aluminum), or whatever the oven surface is. Before use, a peel is typically sprinkled with cornmeal to allow the pizza to easily slide on and off it.[46] When made at home, a pizza can be baked on a pizza stone in a regular oven to reproduce some of the heating effect of a brick oven. Cooking directly on a metal surface results in too rapid heat transfer to the crust, burning it.[47] Some home chefs use a wood-fired pizza oven, usually installed outdoors. As in restaurants, these are often dome-shaped, as pizza ovens have been for centuries,[48] in order to achieve even heat distribution. Another variation is grilled pizza, in which the pizza is baked directly on a barbecue grill. Some types, such as Sicilian pizza, are baked in a pan rather than directly on the bricks of the pizza oven. Most restaurants use standard and purpose-built pizza preparation tables to assemble their pizzas. Mass production of pizza by chains can be completely automated. Pizza baking Pizzas baking in a traditional wood-fired brick oven A pizza being removed with a wooden peel A pizza Margherita Charred crust on a pizza Margherita, an acceptable trait in artisanal pizza Pizza grilling on an outdoor gas range Crust The bottom of the pizza, called the \"crust\", may vary widely according to style—thin as in a typical hand-tossed Neapolitan pizza or thick as in a deep-dish Chicago-style. It is traditionally plain, but may also be seasoned with garlic or herbs, or stuffed with cheese. The outer edge of the pizza is sometimes referred to as the cornicione.[49] Some pizza dough contains sugar, to help its yeast rise and enhance browning of the crust.[50] Cheese Mozzarella is commonly used on pizza, with the buffalo mozzarella produced in the surroundings of Naples.[51] Other cheeses are also used, particularly burrata, Gorgonzola, provolone, pecorino romano, ricotta, and scamorza. Less expensive processed cheeses or cheese analogues have been developed for mass-market pizzas to produce desirable qualities such as browning, melting, stretchiness, consistent fat and moisture content, and stable shelf life. This quest to create the ideal and economical pizza cheese has involved many studies and experiments analyzing the impact of vegetable oil, manufacturing and culture processes, denatured whey proteins, and other changes in manufacture. In 1997, it was estimated that annual production of pizza cheese was 1 million metric tons (1,100,000 short tons) in the US and 100,000 metric tons (110,000 short tons) in Europe.[52] Varieties and styles Main article: List of pizza varieties by country A great number of pizza varieties exist, defined by the choice of toppings and sometimes also crust. There are also several styles of pizza, defined by their preparation method. The following lists feature only the notable ones. Varieties Pizza varieties Image Name Characteristic ingredients Origin First attested Notes Pizza Margherita Tomatoes, mozzarella, basil. Naples, Italy June 1889 The archetypical Neapolitan pizza. Pizza marinara Tomato sauce, olive oil, oregano, garlic. No cheese. Naples, Italy 1734 One of the oldest Neapolitan pizza. Pizza capricciosa Ham, mushrooms, artichokes, egg. Rome, Lazio, Italy 1937 Similar to pizza quattro stagioni, but with toppings mixed rather than separated. Pizza quattro formaggi Prepared using four types of cheese (Italian: [ˈkwattro forˈmaddʒi], 'four cheeses'): mozzarella, Gorgonzola and two others depending on the region. Lazio, Italy Its origins are not clearly documented, but it is believed to originate from the Lazio region at the beginning of the 18th century.[53] Pizza quattro stagioni Artichokes, mushroom, ham, tomatoes. Campania, Italy The toppings are separated by quarter, representing the cycle of the seasons. Seafood pizza Seafood, such as fish, shellfish or squid. Italy Subvarieties include pizza ai frutti di mare (no cheese) and pizza pescatore (with mussels or squid). Styles Pizza styles Image Name Characteristics Origin First attested Calzone Pizza folded in half turnover-style. Naples, Italy 1700s Deep fried pizza (pizza fritta) The pizza is deep fried (cooked in oil) instead of baked. Naples, Italy Pizzetta Small pizza served as an hors d'oeuvre or snack. Italy California-style pizza Distinguished by the use of non-traditional ingredients, especially varieties of fresh produce. California, U.S. 1980 Chicago-style pizza Baked in a pan with a high edge that holds in a thick layer of toppings. The crust is sometimes stuffed with cheese or other ingredients. Chicago, U.S. c. 1940s Colorado-style pizza Made with a characteristically thick, braided crust topped with heavy amounts of sauce and cheese. It is traditionally served by the pound, with a side of honey as a condiment. Colorado, U.S. 1973 Detroit-style pizza The cheese is spread to the edges and caramelizes against the high-sided heavyweight rectangular pan, giving the crust a lacy, crispy edge. Detroit, U.S. 1946 New York–style pizza Neapolitan-derived pizza with a characteristic thin foldable crust. New York metropolitan area (and beyond) Early 1900s St. Louis–style pizza The style has a thin cracker-like crust made without yeast, generally uses Provel cheese, and is cut into squares or rectangles instead of wedges. St. Louis, U.S. 1945 By region of origin Italy The ingredients of traditional pizza Margherita—tomatoes (red), mozzarella (white), and basil (green)—are held by popular legend to be inspired by the colors of the national flag of Italy.[54] Authentic Neapolitan pizza (Italian: pizza napoletana) is made with San Marzano tomatoes, grown on the volcanic plains south of Mount Vesuvius, and either mozzarella di bufala campana, made with milk from water buffalo raised in the marshlands of Campania and Lazio,[55] or fior di latte.[56] Buffalo mozzarella is protected with its own European protected designation of origin (PDO).[55] Other traditional pizzas include pizza marinara, supposedly the most ancient tomato-topped pizza,[57] pizza capricciosa, which is prepared with mozzarella cheese, baked ham, mushroom, artichoke, and tomato.[58] A popular variant of pizza in Italy is Sicilian pizza (locally called sfincione or sfinciuni),[59][60] a thick-crust or deep-dish pizza originating during the 17th century in Sicily: it is essentially a focaccia that is typically topped with tomato sauce and other ingredients. Until the 1860s, sfincione was the type of pizza usually consumed in Sicily, especially in the Western portion of the island.[61] Other variations of pizzas are also found in other regions of Italy, for example pizza al padellino or pizza al tegamino, a small-sized, thick-crust, deep-dish pizza typically served in Turin, Piedmont.[62][63][64] United States Main article: Pizza in the United States Pizza banquet in the White House serving Chicago-style pizza (2009) Caramelized crust of slices of New York–style pizza The first pizzeria in the US was opened in New York City's Little Italy in 1905.[65] Common toppings for pizza in the United States include anchovies, ground beef, chicken, ham, mushrooms, olives, onions, peppers, pepperoni, pineapple, salami, sausage, spinach, steak, and tomatoes. Distinct regional types developed in the 20th century, including Buffalo,[66] California, Chicago, Detroit, Greek, New Haven, New York, and St. Louis styles.[67] These regional variations include deep-dish, stuffed, pockets, turnovers, rolled, and pizza-on-a-stick, each with seemingly limitless combinations of sauce and toppings. Thirteen percent of the United States population consumes pizza on any given day.[68] Pizza chains such as Domino's Pizza, Pizza Hut, and Papa John's, pizzas from take and bake pizzerias, and chilled or frozen pizzas from supermarkets make pizza readily available nationwide. Argentina Main article: Argentine pizza Traditional Argentine-style pizzas de molde being prepared at a pizzeria in Buenos Aires Argentine pizza is a mainstay of the country's cuisine,[69] especially of its capital Buenos Aires, where it is regarded as a cultural heritage and icon of the city.[70][71][72] Argentina is the country with the most pizzerias per inhabitant in the world and, although they are consumed throughout the country, the highest concentration of pizzerias and customers is Buenos Aires, the city with the highest consumption of pizzas in the world (estimated in 2015 to be 14 million per year).[73] As such, the city has been considered as one of the world capitals of pizza.[71][73] The dish was introduced to Buenos Aires in the late 19th century with the massive Italian immigration, as part of a broader great European immigration wave to the country.[71] Thus, around the same time that the iconic pizza Margherita[74] was being invented in Italy, pizza were already being cooked in the Argentine capital.[75] The impoverished Italian immigrants that arrived to the city transformed the originally modest dish into a much more hefty meal, motivated by the abundance of food in Argentina.[73][76] In the 1930s, pizza was cemented as a cultural icon in Buenos Aires, with the new pizzerias becoming a central space for sociability for the working class people who flocked to the city.[76][75] The most characteristic style of Argentine pizza—which almost all the classic pizzerias in Buenos Aires specialize in—is the so-called pizza de molde (Spanish for 'pizza in the pan'), characterized by having a \"thick, spongy base and elevated bready crust\".[71] This style, which today[when?] is identified as the typical style of Argentine pizza—characterized by a thick crust and a large amount of cheese—arose when impoverished Italian immigrants found a greater abundance of food in then-prosperous Argentina, which motivated them to transform the originally modest dish into a much more hefty meal suitable for a main course.[73][76] The name pizza de molde emerged because there were no pizza ovens in the city, so bakers resorted to baking them in pans.[77] Since they used bakery plates, Argentine pizzas were initially square or rectangular, a format associated with the 1920s that is still maintained in some classic pizzerias, especially for vegetable pizzas, fugazzetas or fugazzas.[77] Other styles of Argentine pizza include the iconic fugazza and its derivative fugazzeta or fugazza con queso (a terminology that varies depending on the pizzeria),[71] or the pizza de cancha or canchera (a cheese-less variant).[78] Most pizza menus include standard flavor combinations, including the traditional plain mozzarella, nicknamed \"muza\" or \"musa\"; the napolitana or \"napo\", with \"cheese, sliced tomatoes, garlic, dried oregano and a few green olives\", not to be confused with Neapolitan pizza;[71] calabresa, with slices of longaniza;[79] jamon y morrones, with sliced ham and roasted bell peppers;[71] as well as versions with provolone, with anchovies,[79] with hearts of palm, or with chopped hard boiled egg.[71] A typical custom that is unique to Buenos Aires is to accompany pizza with fainá, a pancake made from chickpea flour.[80] Dessert pizza The terms dessert pizza and sweet pizza are used for a variety of dishes resembling a pizza, including chocolate pizza and fruit pizza.[81][82] Some are based on a traditional yeast dough pizza base,[83] while others have a cookie-like base[84] and resemble a traditional pizza solely in having a flat round shape with a distinct base and topping. Some pizza restaurants offer dessert pizzas.[85][86] Nutrition Some pizzas mass-produced by American pizza chains have been criticized as having an unhealthy balance of ingredients. Pizza can be high in salt and fat, and is high in calories. The USDA reports an average sodium content of 5,100 mg per 14 in (36 cm) pizza in fast food chains.[87][88][89] Similar dishes Focaccia al rosmarino Panzerotti Calzone and stromboli are similar dishes that are often made of pizza dough folded (calzone) or rolled (stromboli) around a filling. Coca is a similar dish consumed mainly in Catalonia and neighboring regions, but that has extended to other areas in Spain, and to Algeria. There are sweet and savory versions. Farinata or cecina is a Ligurian (farinata) and Tuscan (cecina) regional dish.[90] It is often baked in a brick oven, and typically weighed and sold by the slice. Flammekueche is a food speciality of the Alsace region. Focaccia is a flat leavened oven-baked Italian bread, similar in style and texture to pizza; in some places, it is called pizza bianca (lit. 'white pizza').[91] Garlic fingers is an Atlantic Canadian dish, similar to a pizza in shape and size, and made with similar dough. It is garnished with melted butter, garlic, cheese, and sometimes bacon. İçli pide, or simply pide, is a Turkish dish, similar to a pizza in being made of wheat-based dough topped with tomato, cheese, and other ingredients, and usually formed in a boat-like shape. Khachapuri is a Georgian cheese-filled bread. Lahmacun is a Middle Eastern flatbread topped with minced meat; the base is very thin, and the layer of meat often includes chopped vegetables.[92] Manakish is a Levantine flatbread dish. Matzah pizza is a Jewish pizza dish. Panzerotti are similar to calzones, but fried rather than baked. Pastrmalija is a bread pie made from dough and meat. It is usually oval-shaped with chopped meat on top of it. Piadina is a thin Italian flatbread, typically prepared in the Romagna historical region. Pissaladière is similar to an Italian pizza, with a slightly thicker crust and a topping of cooked onions, anchovies, and olives. Pizza bagel is a bagel with toppings similar to that of traditional pizzas. Okonomiyaki, often referred to as \"Japanese pizza\", is a Japanese dish cooked on a hotplate.[93] Pizza cake is a multiple-layer pizza. Pizza rolls are a frozen snack product. Pizza strips is a tomato pie of Italian-American origin. Wähe is a Swiss type of tart. Zanzibar pizza is a street food served in Stone Town, Zanzibar, Tanzania. It uses a dough much thinner than pizza dough, almost like filo dough, filled with minced beef, onions, and an egg, similar to Moroccan basṭīla.[94] Zwiebelkuchen is a German onion tart, often baked with diced bacon and caraway seeds. See also Media related to Pizzas at Wikimedia Commons Italy portalFood portal List of baked goods List of pizza chains List of pizza varieties by country Pizza cheese – cheese for use specifically on pizza Pizza delivery – service in which a pizzeria delivers pizza to a customer Pizza farm – farm split into sections like a pizza split into slices Pizza party – social gathering at which pizza is eaten Pizza saver – object used to prevent the top of a food container from collapsing Pizza theorem – equality of areas of alternating sectors of a disk with equal angles through any interior point Great Michigan Pizza Funeral[95] Notes ^ English: /ˈpiːtsə/ PEET-sə, Italian: [ˈpittsa]; Neapolitan: [ˈpittsə] References ^ \"144843\". Oxford English Dictionary (Online ed.). Oxford University Press. (Subscription or participating institution membership required.) ^ a b Maiden, Martin. \"Linguistic Wonders Series: Pizza is a German(ic) Word\". yourDictionary.com. Archived from the original on January 15, 2003. ^ Arthur Schwartz, Naples at Table: Cooking in Campania (1998), p. 68. ISBN 9780060182618. ^ John Dickie, Delizia!: The Epic History of the Italians and Their Food (2008), p. 186. ^ Father Giuseppe Orsini, Joseph E. Orsini, Italian Baking Secrets (2007), p. 99. ^ \"Pizza Margherita: History and Recipe\". ITALY Magazine. March 14, 2011. Archived from the original on February 7, 2013. Retrieved February 21, 2022. ^ \"How to Make Neapolitan Pizza\". La Cucina Italiana. June 16, 2020. Retrieved June 18, 2024. ^ a b \"Naples' pizza twirling wins Unesco 'intangible' status\". The Guardian. London. Agence France-Presse. December 7, 2017. ISSN 0261-3077. Archived from the original on December 7, 2017. Retrieved December 7, 2017. ^ Miller, Hanna (April–May 2006). \"American Pie\". American Heritage. Archived from the original on February 3, 2012. Retrieved May 4, 2012. ^ Naylor, Tony (September 6, 2019). \"How to eat: Neapolitan-style pizza\". The Guardian. London. Archived from the original on September 14, 2019. Retrieved September 20, 2019. ^ Godoy, Maria (January 13, 2014). \"Italians To New Yorkers: 'Forkgate' Scandal? Fuhggedaboutit\". The Salt (blog). National Public Radio. Archived from the original on September 20, 2019. Retrieved September 20, 2019. ^ Hynum, Rick (December 2016). \"Pizza Power 2017 – A State of the Industry Report\". PMQ Pizza Magazine. Archived from the original on July 29, 2017. Retrieved July 28, 2017. ^ Rhodes, Donna; et al. (February 2014). \"Consumption of Pizza\" (PDF). Food Surveys Research Group Dietary Data Brief No. 11. USDA. Archived (PDF) from the original on September 30, 2017. Retrieved September 27, 2017. ^ Miller, Keith (February 12, 2015). \"Was pizza not invented in Naples after all?\". The Telegraph. Retrieved January 11, 2025. Giuseppe Nocca of the Istituto Alberghiero di Formia claims that the \"codex diplomaticus cajtanus\" of 997 CE contains the first ever written use of the word, in a list of food to be supplied annually as a tithe to the archbishops of Gaeta by the tenants of a mill on the nearby river Garigliano. ^ Codex Diplomaticus Cajetanus. Vol. 1. Typis Archicoenobii Montis Casini. 1887. Tantummoduo persolvere debeatis omni anno salutes in dies natali domini sive vos sive vestris heredes in suprascripto episcopio tam nobis quam a nostris posteris successores duodecim pizze et una spatula de porco; et unum lumbulum; simul et in die sanctum pascha resurrectionis domini annualiter duodecim pizze et unum parium de pulli. ^ a b \"Sorpresa: la parola \"pizza\" è nata a Gaeta\" [Surprise: the word \"pizza\" was born in Gaeta]. La Repubblica (in Italian). February 9, 2015. Archived from the original on November 16, 2021. Retrieved November 16, 2021. ^ Babiniotis, Georgios (2005). Λεξικό της Νέας Ελληνικής Γλώσσας [Dictionary of Modern Greek] (in Greek). Lexicology Centre. p. 1413. ISBN 978-960-86190-1-2. ^ \"Pizza\". Online Etymology Dictionary. Archived from the original on October 24, 2007. Retrieved June 5, 2009. ^ \"Pissa, Liddell and Scott, \"A Greek-English Lexicon, at Perseus\". Perseus.tufts.edu. Archived from the original on February 21, 2022. Retrieved June 5, 2009. ^ \"Pizza\". Dictionary.com. Retrieved June 5, 2009. ^ \"pizza\" (Archived February 21, 2022, at the Wayback Machine), Online Etymology Dictionary. ^ \"Pizza\". Garzanti Linguistica. De Agostini Scuola Spa. Archived from the original on February 1, 2014. Retrieved January 31, 2014. ^ \"pizzetta\". Merriam-Webster.com Online Dictionary. June 22, 2023. ^ Doane, Seth (November 20, 2022). \"Bringing authentic Neapolitan pizza home\". CBS News. ^ Uyehara, Mari (October 6, 2023). \"The Many Lives of Tomato Pie\". The New York Times. ISSN 0362-4331. Retrieved October 15, 2023. ^ Barrett, Liz (2014). Pizza, A Slice of American History. Voyageur Press. p. 13. ISBN 978-0-7603-4560-3. ^ Edwards, W. P. (2007). The Science of Bakery Products. Royal Society of Chemistry. p. 199. ISBN 978-0-85404-486-3. ^ Talati-Padiyar, Dhwani (March 8, 2014). Travelled, Tasted, Tried & Tailored: Food Chronicles. Lulu publishers. ISBN 978-1304961358. ^ Buonassisi, Rosario (2000). Pizza: From its Italian Origins to the Modern Table. Firefly. p. 78. ^ \"Aeneas and Trojans fulfill Anchises' prophecy\". Archived from the original on March 29, 2017. ^ \"Pompeii archaeologists discover 'pizza' painting\". BBC News. BBC. June 17, 2023. ^ \"Pizza's possible 'distant ancestor' found painted in the ruins of Pompeii\". ABC News. June 27, 2023. Retrieved June 28, 2023. ^ a b Helstosky, Carol (2008). Pizza: A Global History. London: Reaktion. pp. 21–22. ISBN 978-1-86189-391-8. ^ de Sanctis, Francesco. La giovinezza di Francesco de Sanctis: frammento autobiografico. p. 39. In the evening we often used to go eating pizza in some rooms at the Piazza della Carità. ^ \"Margherita Pizza\". La Cucina Italiana. November 9, 2021. Retrieved June 18, 2024. ^ \"Pizza Margherita: History and Recipe\". Italy Magazine. March 14, 2011. Archived from the original on February 7, 2013. Retrieved April 23, 2012. ^ Hales, Dianne (May 12, 2009). La Bella Lingua (in Swedish). Crown. p. 204. ISBN 978-0767932110. Retrieved August 29, 2024. ^ \"Was margherita pizza really named after Italy's queen?\". BBC Food. BBC. December 28, 2012. Archived from the original on December 31, 2012. Retrieved December 31, 2012. ^ Nowak, Zachary (March 2014). \"Folklore, Fakelore, History: Invented Tradition and the Origins of the Pizza Margherita\". Food, Culture & Society. 17 (1): 103–124. doi:10.2752/175174414X13828682779249. ISSN 1552-8014. S2CID 142371201. ^ Helstosky, Carol (2008). Pizza: A Global History. Reaktion Books. p. 48. ISBN 978-1-86189-630-8. ^ Nevius, Michelle; Nevius, James (2009). Inside the Apple: A Streetwise History of New York City. New York: Free Press. pp. 194–95. ISBN 978-1416589976. ^ Turim, Gayle. \"A Slice of History: Pizza Through the Ages\". History.com. Archived from the original on December 18, 2014. Retrieved November 9, 2014. ^ \"Associazione Verace Pizza Napoletana (AVPN)\". Archived from the original on July 9, 2017. Retrieved July 11, 2017. ^ Official Journal of the European Union, Commission regulation (EU) No 97/2010 Archived 3 June 2013 at the Wayback Machine, 5 February 2010. ^ International Trademark Association, European Union: Pizza napoletana obtains \"Traditional Speciality Guaranteed\" status Archived 19 August 2014 at the Wayback Machine, 1 April 2010. ^ Owens, Martin J. (2003). Make Great Pizza at Home. Taste of America Press. p. 3. ISBN 978-0-9744470-0-1. Archived from the original on May 27, 2016. Retrieved December 12, 2015. ^ Chen, Angus (July 23, 2018). \"Pizza Physics: Why Brick Ovens Bake The Perfect Italian-Style Pie\". NPR. Archived from the original on July 24, 2018. Retrieved July 25, 2018. ^ \"pizza oven kits\". Californo. Archived from the original on April 26, 2018. Retrieved April 23, 2018. ^ Braimbridge, Sophie; Glynn, Joanne (2005). Food of Italy. Murdoch Books. p. 167. ISBN 978-1-74045-464-3. Archived from the original on June 14, 2016. Retrieved December 12, 2015. ^ DeAngelis, Dominick A. (December 1, 2011). The Art of Pizza Making: Trade Secrets and Recipes. The Creative Pizza Company. pp. 20–28. ISBN 978-0-9632034-0-3. ^ Anderson, Sam (October 11, 2012). \"Go Ahead, Milk My Day\". The New York Times. Archived from the original on July 17, 2014. Retrieved November 7, 2014. ^ Fox, Patrick F.; et al. (2000). Fundamentals of Cheese Science. Aspen Pub. p. 482. ISBN 978-0-8342-1260-2. Archived from the original on May 14, 2016. ^ \"La pizza 4 fromages : origines et recettes\". Restaurant le Quatre Vingt. May 31, 2017. ^ Arturo Iengo (2008). Cucina Napoletana: 100 Recipes from Italy's Most Vibrant City. New Holland Publishers. p. 126. ISBN 978-1-84537-989-6. Archived from the original on June 16, 2018. Retrieved December 12, 2017. ^ a b \"Selezione geografica\". Europa.eu.int. February 23, 2009. Archived from the original on February 18, 2005. Retrieved April 2, 2009. ^ \"How to Make Neapolitan Pizza\". La Cucina Italiana. June 16, 2020. Retrieved June 18, 2024. ^ \"La vera storia della pizza napoletana\". Biografieonline.it. May 20, 2013. Archived from the original on June 29, 2013. Retrieved December 8, 2015. ^ Guides, Rough (August 1, 2011). Rough Guides (ed.). Rough Guide Phrasebook: Italian: Italian. Penguin. p. 244. ISBN 978-1-4053-8646-3. Archived from the original on May 12, 2016. Retrieved December 12, 2015. ^ \"What is Sicilian Pizza?\". WiseGeek. Archived from the original on March 14, 2013. Retrieved April 14, 2013. ^ Giorgio Locatelli (December 26, 2012). Made In Sicily. Harper Collins. ISBN 978-0-06-213038-9. Archived from the original on May 2, 2021. Retrieved July 4, 2013. ^ Gangi, Roberta (2007). \"Sfincione\". Best of Sicily Magazine. Archived from the original on April 2, 2014. ^ \"Torino: la riscoperta della pizza al padellino\". Agrodolce. April 3, 2014. Archived from the original on December 8, 2015. Retrieved December 8, 2015. ^ \"Pizza al padellino (o tegamino): che cos'è?\". Gelapajo.it. Archived from the original on December 10, 2015. Retrieved December 8, 2015. ^ \"Beniamino, il profeta della pizza gourmet\". Torino – Repubblica.it. January 19, 2013. Archived from the original on December 8, 2015. Retrieved December 8, 2015. ^ Otis, Ginger Adams (2010). New York City 7. Lonely Planet. p. 256. ISBN 978-1741795912. Archived from the original on February 21, 2022. Retrieved November 1, 2012. ^ Bovino, Arthur (August 13, 2018). \"Is America's Pizza Capital Buffalo, New York?\". The Daily Beast. Archived from the original on February 21, 2022. Retrieved December 10, 2019. ^ \"Pizza Garden: Italy, the Home of Pizza\". CUIP Chicago Public Schools – University of Chicago Internet Project. Archived from the original on October 19, 2013. Retrieved August 1, 2014. ^ Rhodes, Donna G.; Adler, Meghan E.; Clemens, John C.; LaComb, Randy P.; Moshfegh, Alanna J. \"Consumption of Pizza\" (PDF). Food Surveys Research Group. Archived (PDF) from the original on October 5, 2014. Retrieved September 25, 2014. ^ Aeberhard, Danny; Benson, Andrew; Phillips, Lucy (2000). The Rough Guide to Argentina. Rough Guides. p. 40. ISBN 978-185-828-569-6. Retrieved December 10, 2022 – via Google Books. ^ Pizzerías de valor patrimonial de Buenos Aires (2008), p. 11. ^ a b c d e f g h Lazar, Allie (April 25, 2016). \"Buenos Aires Makes Some of the World's Best (and Weirdest) Pizza\". Saveur. Retrieved December 10, 2022. ^ Sorba, Pietro (October 15, 2021). \"La reivindicación de la pizza de molde argentina\". Clarín (in Spanish). Buenos Aires. Retrieved August 4, 2023. ^ a b c d Gómez, Leire (July 17, 2015). \"Buenos Aires: la ciudad de la pizza\". Tapas (in Spanish). Madrid: SpainMedia [es]. Retrieved December 10, 2022. ^ \"Margherita Pizza\". La Cucina Italiana. November 9, 2021. Retrieved June 18, 2024. ^ a b Hidalgo, Joaquín; Auzmendi, Martín (October 6, 2018). \"De Nápoles a la Argentina: la historia de la pizza y cómo llegó a ser un emblema nacional\". Entremujeres. Clarín (in Spanish). Retrieved December 10, 2022. ^ a b c Acuña, Cecilia (June 26, 2017). \"La historia de la pizza argentina: ¿de dónde salió la media masa?\". La Nación (in Spanish). Retrieved December 10, 2022. ^ a b Pepe Arias, Gimena (June 25, 2022). \"Pizza a la piedra vs. pizza al molde: dos estilos que dividen a los argentinos\". Clarín (in Spanish). Retrieved December 10, 2022. ^ Firpo, Hernán (October 20, 2018). \"Angelín cumple 80 años: mitos y verdades de una pizzería indispensable\". Clarín (in Spanish). Retrieved December 11, 2022. ^ a b \"Tipos de pizzas en Argentina\". Diario Democracia (in Spanish). Junín. January 10, 2015. Retrieved December 11, 2022. ^ Booth, Amy (May 10, 2022). \"Buenos Aires' unusual pizza topping\". BBC Travel. Retrieved December 10, 2022. ^ Colognese, Marco. \"Sweet pizza, the new dessert in pizzeria\". pizzastories.le5stagioni.it. Retrieved May 6, 2024. ^ \"These Sweet Dessert Pizza Recipes Are A Little Slice Of Heaven\". Delish. June 24, 2020. Retrieved May 6, 2024. ^ \"Chocolate pizza\". Good Food. BBC. Retrieved May 6, 2024. ^ \"Chocolate Cookie Pizza\". BettyCrocker.com. Retrieved May 6, 2024. ^ \"Menu: Desserts\". Pizza Express. Retrieved May 6, 2024. ^ \"Menu\". www.pepeingrani.it. Pepe in Grani. Retrieved May 6, 2024. ^ \"Basic Report 21299: Fast Food, Pizza Chain, 14\" pizza, cheese topping, regular crust\". National Nutrient Database for Standard Reference. September 28, 2014. Archived from the original on April 3, 2019. Retrieved September 28, 2014. ^ \"Survey of pizzas\". Food Standards Agency. July 8, 2004. Archived from the original on December 28, 2005. Retrieved April 2, 2009. ^ \"Health | Fast food salt levels \"shocking\"\". BBC News. October 18, 2007. Archived from the original on January 15, 2009. Retrieved April 2, 2009. ^ \"Brick Oven Cecina\". Fornobravo.com. Archived from the original on October 16, 2006. Retrieved April 2, 2009. ^ Riolo, A. (2012). The Mediterranean Diabetes Cookbook. American Diabetes Association. p. 260. ISBN 978-1-58040-483-9. ^ McKernan, Bethan (October 27, 2016). \"A 'pizza war' has broken out between Turkey and Armenia\". The Independent. Archived from the original on December 17, 2016. Retrieved December 10, 2016. ^ \"hanamiweb.com\". Archived from the original on March 18, 2007. Retrieved December 7, 2015. ^ Samuelsson, Marcus (2006). The soul of a new cuisine : a discovery of the foods and flavors of Africa. Hoboken, N.J: John Wiley & Sons. ISBN 978-0-7645-6911-1. OCLC 61748426. ^ Ogden, Jason (March 20, 2017). \"Tainted mushrooms end immigrant's Ossineke pizza factory\". The Alpena News. Retrieved January 11, 2025. Further reading Chudgar, Sonya (March 22, 2012). \"An Expert Guide to World-Class Pizza\". QSR Magazine. Retrieved October 16, 2012. Delpha, J.; Oringer, K. (2015). Grilled Pizza the Right Way. Macmillan. ISBN 978-1-62414-106-5. Helstosky, Carol (2008). Pizza: A Global History. London: Reaktion Books. ISBN 978-1-86189-391-8. OCLC 225876066. Kliman, Todd (September 5, 2012). \"Easy as pie: A Guide to Regional Pizza\". The Washingtonian. Explanation of eight pizza styles: Maryland, Roman, \"Gourmet\" Wood-fired, Generic boxed, New York, Neapolitan, Chicago, and New Haven. Raichlen, Steven (2008). The Barbecue! Bible. Workman Publishing. pp. 381–384. ISBN 978-0761149446. \"The Saveur Ultimate Guide to Pizza\". Saveur. Retrieved November 2, 2014. vteCuisine of ItalyHistory Ancient Roman cuisine Medieval cuisine Early modern cuisine Contemporary cuisine Regional cuisines Abruzzese Apulian Arbëreshë Corsican Emilian Ligurian Lombard Mantuan Lucanian Neapolitan Piedmontese Roman Sardinian Sicilian Tuscan Venetian Pasta and sauces Pasta (List) Carbonara Pesto Ragù Neapolitan ragù Struncatura Arrabbiata sauce Amatriciana sauce Marinara sauce Genovese sauce Bolognese sauce Checca sauce Fettuccine Alfredo Pasta alla Norma Pasta con i peperoni cruschi Pasta con le sarde Pasta e fagioli Pasta al pomodoro Rigatoni con la Pajata Cacio e pepe Spaghetti aglio e olio Spaghetti alla puttanesca Pasta allo scarpariello Spaghetti alle vongole Tumact me tulez Soups Soup alla canavese Soup alla modenese Acquacotta Bagnun Minestrone Ribollita Other dishes (List) Abbacchio Bagna càuda Braciola Bruschetta Bruscitti Cotoletta Cotoletta alla milanese Crostino Bollito misto Baccalà alla lucana Baccalà alla vicentina Cacciatore Cacciucco Caponata Cappon magro Caprese salad Carciofi alla romana Carpaccio Carne pizzaiola Cassoeula Ciambotta Ciccioli Coda alla vaccinara Fiorentina Fondue Frico Frittata Frittola (meat dish) Frittola (doughnut) Istrian stew Lampredotto Polenta Porchetta Panzanella Parmigiana Ossobuco Orzotto Rafanata Risotto Rollatini Saltimbocca Scaloppine Timballo Vitello tonnato Pizza and street food Pizza al taglio Neapolitan pizza Sicilian pizza Focaccia Piscialandrea Calzone Panzerotti Crocchè Arancini Supplì Frittula Panelle Pani câ meusa Panino Piadina Arrosticini Farinata Tramezzino Zippuli Sardenara Scaccia U' pastizz 'rtunnar Cheeses and charcuterie Cheeses PDO Salumi Pastry and desserts (List) Bocconotto Bombolone Bruttiboni Buccellato Budino Cannoli Cantuccini Cassata Cassatella di sant'Agata Castagnaccio Cavallucci Colomba di Pasqua Crostata Crocetta of Caltanissetta Gelato Granita Grattachecca Marzipan Mustacciuoli Neapolitan ice cream Neccio Nutella Pandoro Panettone Panforte Panna cotta Panpepato Parrozzo Pastiera Pignolata Pizzelle Ricciarelli Seada Semifreddo Sfogliatelle Sorbetto Sponge cake Spumoni Struffoli Tartufo Tiramisu Torrone Torta caprese Zabaione Zeppole Zuccotto Zuppa Inglese Breads Borlengo Breadstick Ciabatta Coppia Ferrarese Filone Michetta Pane carasau Pane di Altamura Pane sciocco Sgabeo Taralli Vastedda Wines Varieties IGT DOCG DOC Abruzzo Calabrian Friulan Lombard Piedmontese Tuscan Venetian Alcoholic beverages Beer Grappa Sambuca Mirto Vermouth Spritz Limoncello Fernet Campari Aperol Cynar Amaro Amaretto Nocino Centerbe Bargnolino Maraschino Sassolino Strega Rosolio Galliano Frangelico Alchermes Aurum Coffee Caffè Espresso Lungo Ristretto Doppio Espressino Cappuccino Caffelatte Latte macchiato Caffè macchiato Caffè corretto Affogato Mocaccino Marocchino Bicerin Barbajada Bombardino Related Grano arso Sammarinese cuisine Italian-American cuisine Italian food products Sausages in Italian cuisine Osteria Trattoria Enoteca Sagra List of Italian chefs List of Italian foods and drinks Meal structure Italian Sounding vteFlatbreadsAsia Aparon Balep korkun Barbari bread Bhakri Bhatoora Bindae-tteok Bing Bolani Chapati Danbing Kaak Kabkab Kattama Khubz Kiping Kulcha Gözleme Jolada rotti Lahoh Laobing Lavash Luchi Malooga Markook Matzo Mulawah Malawach Malawah Naan Nan/non Papadam Paratha Aloo paratha Parotta Pathiri Phitti Piaya Pihta Pita Pletzel Puran poli Puri Qistibi Qutab Ramazan pidesi Roti Makki di roti Roti canai Roti prata Rumali roti Sa Sanchuisanda Sangak Scallion pancake Cōng yóu bǐng Pajeon Saj bread Shaobing Sheermal Shelpek Taboon bread Taftan Tandoor bread Thalipeeth Zhingyalov hats Europe Bannock Bazlama Crescia Crispbread Farl Flammkuchen Flatbrød Flatkaka Focaccia Hoggan Khachapuri Lángos Lefse Mekitsa Opłatek Pancake Pane carasau Piadina Pita Pizza Podpłomyk Rieska Sacramental bread Scaccia Shotis puri Somun Talo Torta de gazpacho Tunnbröd Africa Bataw Eish merahrah Injera Khubz Lahoh Ngome Msemen Sabaayad America Arepa Bammy Bannock Casabe Frybread Corn tortilla List of tortilla-based dishes Flour tortilla Tortilla de rescoldo Recipes on WikiBooks Category:Flatbreads Food portal vteCheese dishesDishes Aligot Alivenci Almogrote Älplermagronen Arizona cheese crisp Baked potato Bagel and cream cheese Barfi Beer cheese Bryndzové halušky Calzone Carbonara Cauliflower cheese Cervelle de canut Cheese and crackers Cheese ball Cheese bun Cheese fries Cheese on toast Cheese pudding Cheese puffs Cheese roll Cheese slaw Cheese spread Cheesecake Chèvre chaud Chhena gaja Chhena jalebi Chhena kheeri Chhena poda Chicharron de queso Chile con queso Curd snack Empanada Fondue Frico Fried cheese Frito pie Gougère Gratin Gujia Gulab jamun Hauskyjza Insalata Caprese Jalapeño popper Kaasstengels Kasseropita Khachapuri Khira sagara Lasagna Lazy varenyky Liptauer Macaroni and cheese Macaroni schotel Machas a la parmesana Malakoff Mattar paneer Meatloaf Moretum Mornay sauce Mozzarella sticks Mote de queso Nachos Obatzda Ostkaka Papanași Parmigiana Pască Paskha Pastel (Brazilian version) Pastizz Peda Pepperoni roll Pierogi Pimento cheese Pizza Plăcintă Polpettone Poulet au fromage Poutine Provoleta Quarkkäulchen Quesadilla Quesito Queso flameado Queso ice cream Raclette Ras malai Rasabali Rasgulla Saganaki Sandesh Shahi paneer Smažený sýr Spanakopita Stromboli Stuffed peppers Supplì Syrniki Tirokafteri Tiropita Túró Rudi Túrós csusza Urnebes Vatrushka Welsh rarebit Sandwiches Bacon, egg and cheese sandwich Breakfast sandwich Carrozza Cheese dog Cheese dream Cheese sandwich Cheese and pickle sandwich Cheeseburger Cheesesteak Croissan'Wich Croque monsieur Cuban sandwich Dagwood sandwich Grilled cheese Ham and cheese sandwich Jucy/Juicy Lucy McMuffin Monte Cristo sandwich Patty melt Reuben sandwich Roti bakar Sándwich de miga Sub sandwich Authority control databases InternationalFASTNationalGermanyUnited StatesFranceBnF dataCzech RepublicSpainArgentinaIsrael Retrieved from \"https://en.wikipedia.org/w/index.php?title=Pizza&oldid=1278220322\" Categories: PizzaCheese dishesConvenience foodsFlatbread dishesFood combinationsItalian cuisineItalian inventionsMediterranean cuisineNational dishesNeapolitan cuisinePopular cultureSnack foodsTypes of foodWorld cuisineHidden categories: Pages with Italian IPAPages with Neapolitan IPACS1 Italian-language sources (it)CS1 uses Greek-language script (el)CS1 Greek-language sources (el)Webarchive template wayback linksCS1 Swedish-language sources (sv)CS1 Spanish-language sources (es)Articles with short descriptionShort description is different from WikidataWikipedia indefinitely move-protected pagesWikipedia indefinitely semi-protected pagesUse American English from May 2024All Wikipedia articles written in American EnglishUse mdy dates from May 2024All articles with vague or ambiguous timeVague or ambiguous time from June 2024Commons category link is on Wikidata This page was last edited on 1 March 2025, at 04:34 (UTC). Text is available under the Creative Commons Attribution-ShareAlike 4.0 License; additional terms may apply. By using this site, you agree to the Terms of Use and Privacy Policy. Wikipedia® is a registered trademark of the Wikimedia Foundation, Inc., a non-profit organization. Privacy policy About Wikipedia Disclaimers Contact Wikipedia Code of Conduct Developers Statistics Cookie statement Mobile view Search Search Toggle the table of contents Pizza 143 languages Add topic\n"
     ]
    }
   ],
   "source": [
    "#save and print the text content of a page with all tags removed\n",
    "def save_page_text(url):\n",
    "    response = requests.get(url)\n",
    "    soup = BeautifulSoup(response.content, 'html.parser')\n",
    "    text = soup.get_text()\n",
    "    text = ' '.join(text.split())  # Remove all spaces\n",
    "    return text\n",
    "\n",
    "print(save_page_text('https://en.wikipedia.org/wiki/Pizza'))\n"
   ]
  },
  {
   "cell_type": "code",
   "execution_count": 6,
   "metadata": {},
   "outputs": [
    {
     "name": "stdout",
     "output_type": "stream",
     "text": [
      "https://upload.wikimedia.org/wikipedia/commons/thumb/2/2d/Neapolitan_pizza.jpg/305px-Neapolitan_pizza.jpg\n"
     ]
    }
   ],
   "source": [
    "#download an image with beautifulsoup and save it in this repository\n",
    "source=requests.get('https://en.wikipedia.org/wiki/Pizza').text\n",
    "soup=BeautifulSoup(source)\n",
    "\n",
    "img_tags=soup.find_all('img')\n",
    "\n",
    "\n",
    "img_url=\"https:\" + img_tags[10]['src']\n",
    "print(img_url)\n",
    "\n",
    "img=requests.get(img_url)\n",
    "with open('image.jpg','wb') as f:\n",
    "    f.write(img.content)"
   ]
  },
  {
   "cell_type": "code",
   "execution_count": 6,
   "metadata": {},
   "outputs": [
    {
     "name": "stdout",
     "output_type": "stream",
     "text": [
      "#bodyContent\n",
      "/wiki/Main_Page\n",
      "/wiki/Wikipedia:Contents\n",
      "/wiki/Portal:Current_events\n",
      "/wiki/Special:Random\n",
      "/wiki/Wikipedia:About\n",
      "//en.wikipedia.org/wiki/Wikipedia:Contact_us\n",
      "/wiki/Help:Contents\n",
      "/wiki/Help:Introduction\n",
      "/wiki/Wikipedia:Community_portal\n"
     ]
    }
   ],
   "source": [
    "#find all the links in a page with beautifulsoup\n",
    "#print the first 100 characters of ten of these links\n",
    "def find_links(url):\n",
    "    response = requests.get(url)\n",
    "    soup = BeautifulSoup(response.content, 'html.parser')\n",
    "    links = soup.find_all('a')\n",
    "    for link in links[:10]:\n",
    "        print(link.get('href')[:100])\n",
    "find_links(\"https://en.wikipedia.org/wiki/Pizza\")"
   ]
  },
  {
   "cell_type": "markdown",
   "metadata": {},
   "source": [
    "## Part 3: Downloading scripts"
   ]
  },
  {
   "cell_type": "code",
   "execution_count": 7,
   "metadata": {},
   "outputs": [],
   "source": [
    "scripts_df=pd.read_csv('pudding_data.csv')"
   ]
  },
  {
   "cell_type": "code",
   "execution_count": 8,
   "metadata": {},
   "outputs": [
    {
     "data": {
      "text/html": [
       "<div>\n",
       "<style scoped>\n",
       "    .dataframe tbody tr th:only-of-type {\n",
       "        vertical-align: middle;\n",
       "    }\n",
       "\n",
       "    .dataframe tbody tr th {\n",
       "        vertical-align: top;\n",
       "    }\n",
       "\n",
       "    .dataframe thead th {\n",
       "        text-align: right;\n",
       "    }\n",
       "</style>\n",
       "<table border=\"1\" class=\"dataframe\">\n",
       "  <thead>\n",
       "    <tr style=\"text-align: right;\">\n",
       "      <th></th>\n",
       "      <th>imdb_id</th>\n",
       "      <th>script_id</th>\n",
       "      <th>title</th>\n",
       "      <th>year</th>\n",
       "      <th>gross (inflation-adjusted)</th>\n",
       "      <th>link</th>\n",
       "    </tr>\n",
       "  </thead>\n",
       "  <tbody>\n",
       "    <tr>\n",
       "      <th>0</th>\n",
       "      <td>tt0019777</td>\n",
       "      <td>4031</td>\n",
       "      <td>The Cocoanuts</td>\n",
       "      <td>1929</td>\n",
       "      <td>NaN</td>\n",
       "      <td>http://www.pages.drexel.edu/~ina22/splaylib/Sc...</td>\n",
       "    </tr>\n",
       "    <tr>\n",
       "      <th>1</th>\n",
       "      <td>tt0021884</td>\n",
       "      <td>8521</td>\n",
       "      <td>Frankenstein</td>\n",
       "      <td>1931</td>\n",
       "      <td>298.0</td>\n",
       "      <td>Frankenstein (Florey &amp; Fort) [1931-5-23] [Scan...</td>\n",
       "    </tr>\n",
       "    <tr>\n",
       "      <th>2</th>\n",
       "      <td>tt0022054</td>\n",
       "      <td>1086</td>\n",
       "      <td>The Last Flight</td>\n",
       "      <td>1931</td>\n",
       "      <td>NaN</td>\n",
       "      <td>film_20100519/all_imsdb_05_19_10/Last-Flight,-...</td>\n",
       "    </tr>\n",
       "    <tr>\n",
       "      <th>3</th>\n",
       "      <td>tt0022626</td>\n",
       "      <td>1631</td>\n",
       "      <td>American Madness</td>\n",
       "      <td>1932</td>\n",
       "      <td>NaN</td>\n",
       "      <td>http://www.imsdb.com/Movie Scripts/American Ma...</td>\n",
       "    </tr>\n",
       "    <tr>\n",
       "      <th>4</th>\n",
       "      <td>tt0022958</td>\n",
       "      <td>2438</td>\n",
       "      <td>Grand Hotel</td>\n",
       "      <td>1932</td>\n",
       "      <td>NaN</td>\n",
       "      <td>http://www.imsdb.com/Movie Scripts/Grand Hotel...</td>\n",
       "    </tr>\n",
       "    <tr>\n",
       "      <th>...</th>\n",
       "      <td>...</td>\n",
       "      <td>...</td>\n",
       "      <td>...</td>\n",
       "      <td>...</td>\n",
       "      <td>...</td>\n",
       "      <td>...</td>\n",
       "    </tr>\n",
       "    <tr>\n",
       "      <th>1995</th>\n",
       "      <td>tt3733778</td>\n",
       "      <td>8533</td>\n",
       "      <td>Pay the Ghost</td>\n",
       "      <td>2015</td>\n",
       "      <td>NaN</td>\n",
       "      <td>Pay The Ghost (Dan Kay, 9-1-09).pdf</td>\n",
       "    </tr>\n",
       "    <tr>\n",
       "      <th>1996</th>\n",
       "      <td>tt3808342</td>\n",
       "      <td>5499</td>\n",
       "      <td>Son of Saul</td>\n",
       "      <td>2015</td>\n",
       "      <td>0.0</td>\n",
       "      <td>http://gointothestory.blcklst.com/wp-content/u...</td>\n",
       "    </tr>\n",
       "    <tr>\n",
       "      <th>1997</th>\n",
       "      <td>tt3850214</td>\n",
       "      <td>8056</td>\n",
       "      <td>Dope</td>\n",
       "      <td>2015</td>\n",
       "      <td>18.0</td>\n",
       "      <td>Dope (2013.10.31) [Digital].pdf</td>\n",
       "    </tr>\n",
       "    <tr>\n",
       "      <th>1998</th>\n",
       "      <td>tt3859076</td>\n",
       "      <td>5507</td>\n",
       "      <td>Truth</td>\n",
       "      <td>2015</td>\n",
       "      <td>2.0</td>\n",
       "      <td>http://gointothestory.blcklst.com/wp-content/u...</td>\n",
       "    </tr>\n",
       "    <tr>\n",
       "      <th>1999</th>\n",
       "      <td>tt4270516</td>\n",
       "      <td>5410</td>\n",
       "      <td>Grandma</td>\n",
       "      <td>2015</td>\n",
       "      <td>7.0</td>\n",
       "      <td>http://gointothestory.blcklst.com/wp-content/u...</td>\n",
       "    </tr>\n",
       "  </tbody>\n",
       "</table>\n",
       "<p>2000 rows × 6 columns</p>\n",
       "</div>"
      ],
      "text/plain": [
       "        imdb_id  script_id             title  year  \\\n",
       "0     tt0019777       4031     The Cocoanuts  1929   \n",
       "1     tt0021884       8521      Frankenstein  1931   \n",
       "2     tt0022054       1086   The Last Flight  1931   \n",
       "3     tt0022626       1631  American Madness  1932   \n",
       "4     tt0022958       2438       Grand Hotel  1932   \n",
       "...         ...        ...               ...   ...   \n",
       "1995  tt3733778       8533     Pay the Ghost  2015   \n",
       "1996  tt3808342       5499       Son of Saul  2015   \n",
       "1997  tt3850214       8056              Dope  2015   \n",
       "1998  tt3859076       5507             Truth  2015   \n",
       "1999  tt4270516       5410           Grandma  2015   \n",
       "\n",
       "      gross (inflation-adjusted)  \\\n",
       "0                            NaN   \n",
       "1                          298.0   \n",
       "2                            NaN   \n",
       "3                            NaN   \n",
       "4                            NaN   \n",
       "...                          ...   \n",
       "1995                         NaN   \n",
       "1996                         0.0   \n",
       "1997                        18.0   \n",
       "1998                         2.0   \n",
       "1999                         7.0   \n",
       "\n",
       "                                                   link  \n",
       "0     http://www.pages.drexel.edu/~ina22/splaylib/Sc...  \n",
       "1     Frankenstein (Florey & Fort) [1931-5-23] [Scan...  \n",
       "2     film_20100519/all_imsdb_05_19_10/Last-Flight,-...  \n",
       "3     http://www.imsdb.com/Movie Scripts/American Ma...  \n",
       "4     http://www.imsdb.com/Movie Scripts/Grand Hotel...  \n",
       "...                                                 ...  \n",
       "1995                Pay The Ghost (Dan Kay, 9-1-09).pdf  \n",
       "1996  http://gointothestory.blcklst.com/wp-content/u...  \n",
       "1997                    Dope (2013.10.31) [Digital].pdf  \n",
       "1998  http://gointothestory.blcklst.com/wp-content/u...  \n",
       "1999  http://gointothestory.blcklst.com/wp-content/u...  \n",
       "\n",
       "[2000 rows x 6 columns]"
      ]
     },
     "execution_count": 8,
     "metadata": {},
     "output_type": "execute_result"
    }
   ],
   "source": [
    "scripts_df"
   ]
  },
  {
   "cell_type": "code",
   "execution_count": 11,
   "metadata": {},
   "outputs": [
    {
     "name": "stdout",
     "output_type": "stream",
     "text": [
      "        imdb_id  script_id             title  year  \\\n",
      "0     tt0019777       4031     The Cocoanuts  1929   \n",
      "1     tt0021884       8521      Frankenstein  1931   \n",
      "2     tt0022054       1086   The Last Flight  1931   \n",
      "3     tt0022626       1631  American Madness  1932   \n",
      "4     tt0022958       2438       Grand Hotel  1932   \n",
      "...         ...        ...               ...   ...   \n",
      "1995  tt3733778       8533     Pay the Ghost  2015   \n",
      "1996  tt3808342       5499       Son of Saul  2015   \n",
      "1997  tt3850214       8056              Dope  2015   \n",
      "1998  tt3859076       5507             Truth  2015   \n",
      "1999  tt4270516       5410           Grandma  2015   \n",
      "\n",
      "      gross (inflation-adjusted)  \\\n",
      "0                            NaN   \n",
      "1                          298.0   \n",
      "2                            NaN   \n",
      "3                            NaN   \n",
      "4                            NaN   \n",
      "...                          ...   \n",
      "1995                         NaN   \n",
      "1996                         0.0   \n",
      "1997                        18.0   \n",
      "1998                         2.0   \n",
      "1999                         7.0   \n",
      "\n",
      "                                                   link  \\\n",
      "0     http://www.pages.drexel.edu/~ina22/splaylib/Sc...   \n",
      "1     Frankenstein (Florey & Fort) [1931-5-23] [Scan...   \n",
      "2     film_20100519/all_imsdb_05_19_10/Last-Flight,-...   \n",
      "3     http://www.imsdb.com/Movie Scripts/American Ma...   \n",
      "4     http://www.imsdb.com/Movie Scripts/Grand Hotel...   \n",
      "...                                                 ...   \n",
      "1995                Pay The Ghost (Dan Kay, 9-1-09).pdf   \n",
      "1996  http://gointothestory.blcklst.com/wp-content/u...   \n",
      "1997                    Dope (2013.10.31) [Digital].pdf   \n",
      "1998  http://gointothestory.blcklst.com/wp-content/u...   \n",
      "1999  http://gointothestory.blcklst.com/wp-content/u...   \n",
      "\n",
      "                                               web_data  \n",
      "0                                                  NULL  \n",
      "1                                                  NULL  \n",
      "2                                                  NULL  \n",
      "3     <html>\\r\\n<head>\\r\\n<!-- Google tag (gtag.js) ...  \n",
      "4     <html>\\r\\n<head>\\r\\n<!-- Google tag (gtag.js) ...  \n",
      "...                                                 ...  \n",
      "1995                                               NULL  \n",
      "1996  <!doctype html><html lang=\"en\"><head><title da...  \n",
      "1997                                               NULL  \n",
      "1998  <!doctype html><html lang=\"en\"><head><title da...  \n",
      "1999  <!doctype html><html lang=\"en\"><head><title da...  \n",
      "\n",
      "[2000 rows x 7 columns]\n"
     ]
    }
   ],
   "source": [
    "# web_data is a dataframe and you want to add it to scripts_df. \n",
    "import requests\n",
    "\n",
    "scripts_list = scripts_df['link']  # Process all URLs\n",
    "web_data = []\n",
    "\n",
    "for url in scripts_list:\n",
    "    try:\n",
    "        web_data.append(requests.get(url, timeout=5).text)\n",
    "    except:\n",
    "        web_data.append(\"NULL\")\n",
    "\n",
    "scripts_df['web_data'] = web_data  # Update the entire DataFrame\n",
    "print(scripts_df)"
   ]
  },
  {
   "cell_type": "code",
   "execution_count": 12,
   "metadata": {},
   "outputs": [
    {
     "name": "stdout",
     "output_type": "stream",
     "text": [
      "        imdb_id  script_id             title  year  \\\n",
      "0     tt0019777       4031     The Cocoanuts  1929   \n",
      "1     tt0021884       8521      Frankenstein  1931   \n",
      "2     tt0022054       1086   The Last Flight  1931   \n",
      "3     tt0022626       1631  American Madness  1932   \n",
      "4     tt0022958       2438       Grand Hotel  1932   \n",
      "...         ...        ...               ...   ...   \n",
      "1995  tt3733778       8533     Pay the Ghost  2015   \n",
      "1996  tt3808342       5499       Son of Saul  2015   \n",
      "1997  tt3850214       8056              Dope  2015   \n",
      "1998  tt3859076       5507             Truth  2015   \n",
      "1999  tt4270516       5410           Grandma  2015   \n",
      "\n",
      "      gross (inflation-adjusted)  \\\n",
      "0                            NaN   \n",
      "1                          298.0   \n",
      "2                            NaN   \n",
      "3                            NaN   \n",
      "4                            NaN   \n",
      "...                          ...   \n",
      "1995                         NaN   \n",
      "1996                         0.0   \n",
      "1997                        18.0   \n",
      "1998                         2.0   \n",
      "1999                         7.0   \n",
      "\n",
      "                                                   link  \\\n",
      "0     http://www.pages.drexel.edu/~ina22/splaylib/Sc...   \n",
      "1     Frankenstein (Florey & Fort) [1931-5-23] [Scan...   \n",
      "2     film_20100519/all_imsdb_05_19_10/Last-Flight,-...   \n",
      "3     http://www.imsdb.com/Movie Scripts/American Ma...   \n",
      "4     http://www.imsdb.com/Movie Scripts/Grand Hotel...   \n",
      "...                                                 ...   \n",
      "1995                Pay The Ghost (Dan Kay, 9-1-09).pdf   \n",
      "1996  http://gointothestory.blcklst.com/wp-content/u...   \n",
      "1997                    Dope (2013.10.31) [Digital].pdf   \n",
      "1998  http://gointothestory.blcklst.com/wp-content/u...   \n",
      "1999  http://gointothestory.blcklst.com/wp-content/u...   \n",
      "\n",
      "                                               web_data  \n",
      "0                                                  NULL  \n",
      "1                                                  NULL  \n",
      "2                                                  NULL  \n",
      "3     \\n\\n\\n\\n\\nAmerican Madness Script at IMSDb.\\n\\...  \n",
      "4     \\n\\n\\n\\n\\nGrand Hotel Script at IMSDb.\\n\\n\\n\\n...  \n",
      "...                                                 ...  \n",
      "1995                                               NULL  \n",
      "1996  MediumOpen in appSign upSign inWriteSign upSig...  \n",
      "1997                                               NULL  \n",
      "1998  MediumOpen in appSign upSign inWriteSign upSig...  \n",
      "1999  MediumOpen in appSign upSign inWriteSign upSig...  \n",
      "\n",
      "[2000 rows x 7 columns]\n"
     ]
    }
   ],
   "source": [
    "#using the links in the \"link\" column, download the first 1000 characters of each script\n",
    "#use requests and bs4, remember to remove all html tags\n",
    "\n",
    "import requests\n",
    "from bs4 import BeautifulSoup\n",
    "\n",
    "scripts_list = scripts_df['link']  # Process all URLs\n",
    "web_data = []\n",
    "\n",
    "for url in scripts_list:\n",
    "    try:\n",
    "        response = requests.get(url, timeout=5)\n",
    "        soup = BeautifulSoup(response.text, 'html.parser')\n",
    "        text_snippet = soup.get_text()[:1000]  # Remove HTML and get first 1000 characters\n",
    "        web_data.append(text_snippet)\n",
    "    except:\n",
    "        web_data.append(\"NULL\")\n",
    "\n",
    "scripts_df['web_data'] = web_data  # Update the entire DataFrame\n",
    "print(scripts_df)\n"
   ]
  },
  {
   "cell_type": "code",
   "execution_count": 14,
   "metadata": {},
   "outputs": [
    {
     "name": "stdout",
     "output_type": "stream",
     "text": [
      "Saved as pudding_texts.csv\n"
     ]
    }
   ],
   "source": [
    "#add a new column to the df with the text downloaded\n",
    "#save this new dataframe as \"pudding_texts.csv\"\n",
    "\n",
    "scripts_list = scripts_df['link']\n",
    "web_data = []\n",
    "\n",
    "for url in scripts_list:\n",
    "    try:\n",
    "        web_data.append(requests.get(url, timeout=5).text)\n",
    "    except:\n",
    "        web_data.append(\"NULL\")\n",
    "\n",
    "scripts_df['web_data'] = web_data  # Add new column with downloaded text\n",
    "\n",
    "scripts_df.to_csv(\"pudding_texts.csv\", index=False)  # Save as CSV\n",
    "\n",
    "print(\"Saved as pudding_texts.csv\")\n",
    "\n"
   ]
  },
  {
   "cell_type": "markdown",
   "metadata": {},
   "source": [
    "## Part 4: TMDB database"
   ]
  },
  {
   "cell_type": "markdown",
   "metadata": {},
   "source": [
    "#### Browse the documentation at https://developer.themoviedb.org/reference/intro/getting-started. Create an account to authenticate"
   ]
  },
  {
   "cell_type": "code",
   "execution_count": 3,
   "metadata": {},
   "outputs": [
    {
     "name": "stdout",
     "output_type": "stream",
     "text": [
      "        id                             title release_date  \\\n",
      "0   950396                         The Gorge   2025-02-13   \n",
      "1  1126166                       Flight Risk   2025-01-22   \n",
      "2   939243              Sonic the Hedgehog 3   2024-12-19   \n",
      "3   822119  Captain America: Brave New World   2025-02-12   \n",
      "4  1084199                         Companion   2025-01-22   \n",
      "\n",
      "                                            overview  \\\n",
      "0  Two highly trained operatives grow close from ...   \n",
      "1  A U.S. Marshal escorts a government witness to...   \n",
      "2  Sonic, Knuckles, and Tails reunite against a p...   \n",
      "3  After meeting with newly elected U.S. Presiden...   \n",
      "4  During a weekend getaway at a secluded lakesid...   \n",
      "\n",
      "                                         poster_path  \n",
      "0  https://image.tmdb.org/t/p/w500/7iMBZzVZtG0oBu...  \n",
      "1  https://image.tmdb.org/t/p/w500/q0bCG4NX32iIEs...  \n",
      "2  https://image.tmdb.org/t/p/w500/d8Ryb8AunYAuyc...  \n",
      "3  https://image.tmdb.org/t/p/w500/pzIddUEMWhWzfv...  \n",
      "4  https://image.tmdb.org/t/p/w500/oCoTgC3UyWGfyQ...  \n"
     ]
    }
   ],
   "source": [
    "#create a dataset of the movies in theaters now. Include metadata fields you are interested in. \n",
    "import pandas as pd\n",
    "import os\n",
    "\n",
    "# TMDB API key\n",
    "API_KEY = \"f0694d916f8c06b27b42fb93e2ccfd37\"\n",
    "BASE_URL = \"https://api.themoviedb.org/3\"\n",
    "\n",
    "# Fetch movies in theaters\n",
    "def get_now_playing():\n",
    "    url = f\"{BASE_URL}/movie/now_playing?api_key={API_KEY}&language=en-US&page=1\"\n",
    "    response = requests.get(url)\n",
    "    \n",
    "    if response.status_code == 200:\n",
    "        data = response.json()\n",
    "        movies = data.get('results', [])\n",
    "        \n",
    "        movie_data = []\n",
    "        for movie in movies:\n",
    "            movie_data.append({\n",
    "                \"id\": movie.get(\"id\"),\n",
    "                \"title\": movie.get(\"title\"),\n",
    "                \"release_date\": movie.get(\"release_date\"),\n",
    "                \"overview\": movie.get(\"overview\"),\n",
    "                \"poster_path\": f\"https://image.tmdb.org/t/p/w500{movie.get('poster_path')}\"\n",
    "            })\n",
    "        \n",
    "        return pd.DataFrame(movie_data)\n",
    "    else:\n",
    "        print(\"Failed to retrieve movies:\", response.status_code)\n",
    "        return pd.DataFrame()\n",
    "\n",
    "movies_df = get_now_playing()\n",
    "\n",
    "# Ensure the dataframe is not empty before proceeding\n",
    "if not movies_df.empty:\n",
    "    movies_csv_path = \"now_playing_movies.csv\"  # Save in the current directory\n",
    "    movies_df.to_csv(movies_csv_path, index=False)\n",
    "    \n",
    "    # Display the first few rows to confirm success\n",
    "    print(movies_df.head())\n",
    "else:\n",
    "    print(\"No movies retrieved, skipping CSV save.\")\n"
   ]
  },
  {
   "cell_type": "code",
   "execution_count": 6,
   "metadata": {},
   "outputs": [
    {
     "name": "stdout",
     "output_type": "stream",
     "text": [
      "Downloaded: The Gorge\n",
      "Downloaded: Flight Risk\n",
      "Downloaded: Sonic the Hedgehog 3\n",
      "Downloaded: Companion\n",
      "Downloaded: Captain America: Brave New World\n",
      "Downloaded: Panda Plan\n",
      "Downloaded: Dog Man\n",
      "Downloaded: My Fault: London\n",
      "Downloaded: Kraven the Hunter\n",
      "Downloaded: The Brutalist\n",
      "All posters downloaded successfully.\n"
     ]
    }
   ],
   "source": [
    "#download the movie posters for 10 of these movies and save them to this repository\n",
    "\n",
    "import requests\n",
    "import os\n",
    "\n",
    "# Create a directory to save the posters\n",
    "poster_dir = \"movie_posters\"\n",
    "os.makedirs(poster_dir, exist_ok=True)\n",
    "\n",
    "# Function to download and save a poster\n",
    "def download_poster(movie_title, poster_url):\n",
    "    try:\n",
    "        response = requests.get(poster_url, stream=True)\n",
    "        response.raise_for_status()  # Raise an error if request fails\n",
    "        \n",
    "        # Clean movie title for filename\n",
    "        safe_title = \"\".join(c if c.isalnum() else \"_\" for c in movie_title)\n",
    "        file_path = os.path.join(poster_dir, f\"{safe_title}.jpg\")\n",
    "        \n",
    "        # Save the image\n",
    "        with open(file_path, \"wb\") as file:\n",
    "            for chunk in response.iter_content(1024):\n",
    "                file.write(chunk)\n",
    "        \n",
    "        print(f\"Downloaded: {movie_title}\")\n",
    "    except requests.exceptions.RequestException as e:\n",
    "        print(f\"Error downloading {movie_title}: {e}\")\n",
    "\n",
    "# Select the first 10 movies\n",
    "for index, row in movies_df.head(10).iterrows():\n",
    "    if row[\"poster_path\"]:  # Ensure there is a valid poster URL\n",
    "        download_poster(row[\"title\"], row[\"poster_path\"])\n",
    "\n",
    "print(\"All posters downloaded successfully.\")\n"
   ]
  }
 ],
 "metadata": {
  "kernelspec": {
   "display_name": "Python 3",
   "language": "python",
   "name": "python3"
  },
  "language_info": {
   "codemirror_mode": {
    "name": "ipython",
    "version": 3
   },
   "file_extension": ".py",
   "mimetype": "text/x-python",
   "name": "python",
   "nbconvert_exporter": "python",
   "pygments_lexer": "ipython3",
   "version": "3.12.4"
  }
 },
 "nbformat": 4,
 "nbformat_minor": 2
}
